{
 "cells": [
  {
   "cell_type": "code",
   "execution_count": 1,
   "metadata": {},
   "outputs": [],
   "source": [
    "import numpy as np\n",
    "from scipy.stats import norm\n",
    "from tensorflow import keras\n",
    "from keras.layers import Dense, Input"
   ]
  },
  {
   "cell_type": "code",
   "execution_count": 78,
   "metadata": {},
   "outputs": [],
   "source": [
    "S0 = 100\n",
    "K = 100\n",
    "sigma = 0.4\n",
    "rho = 0.75\n",
    "d = 1\n",
    "wi = 1.0 / d\n",
    "T = 1\n",
    "r = 0.03\n",
    "\n",
    "N = 10000\n",
    "n = 20\n",
    "\n",
    "Z = np.random.multivariate_normal(\n",
    "        np.zeros(d), np.eye(d), N)\n",
    "\n",
    "Cov = np.ones((d,d)) * rho\n",
    "for i in range(d):\n",
    "    Cov[i,i]=1\n",
    "    \n",
    "L = np.linalg.cholesky(Cov)"
   ]
  },
  {
   "cell_type": "code",
   "execution_count": 79,
   "metadata": {},
   "outputs": [],
   "source": [
    "def f_multiBS_call(Z):\n",
    "    BT = (np.sqrt(T) * Z) @ L.T\n",
    "    S = S0*np.exp((r-0.5*sigma**2)*T+sigma*BT)\n",
    "    return np.maximum(0.0, np.mean(S, axis=1)-K)\n",
    "\n",
    "y = np.mean(f_multiBS_call(Z))"
   ]
  },
  {
   "cell_type": "code",
   "execution_count": 80,
   "metadata": {},
   "outputs": [],
   "source": [
    "def network1(N, n, d):\n",
    "    model = keras.models.Sequential()\n",
    "    model.add(Input(shape=(N, d)))\n",
    "    model.add(Dense(n * d, activation='relu'))\n",
    "    model.add(Dense(2*n * d, activation='relu'))\n",
    "    model.add(Dense(1))\n",
    "    \n",
    "    return model\n",
    "\n",
    "model = network1(N,n,d)\n",
    "loss = keras.metrics.mean_squared_error\n",
    "model.compile(loss=loss)"
   ]
  },
  {
   "cell_type": "code",
   "execution_count": 82,
   "metadata": {},
   "outputs": [
    {
     "name": "stdout",
     "output_type": "stream",
     "text": [
      "Epoch 1/10\n",
      "1/1 [==============================] - 0s 111ms/step - loss: 293.8590\n",
      "Epoch 2/10\n",
      "1/1 [==============================] - 0s 146ms/step - loss: 293.0016\n",
      "Epoch 3/10\n",
      "1/1 [==============================] - 0s 115ms/step - loss: 292.1359\n",
      "Epoch 4/10\n",
      "1/1 [==============================] - 0s 108ms/step - loss: 291.2620\n",
      "Epoch 5/10\n",
      "1/1 [==============================] - 0s 92ms/step - loss: 290.3802\n",
      "Epoch 6/10\n",
      "1/1 [==============================] - 0s 100ms/step - loss: 289.4904\n",
      "Epoch 7/10\n",
      "1/1 [==============================] - 0s 88ms/step - loss: 288.5923\n",
      "Epoch 8/10\n",
      "1/1 [==============================] - 0s 71ms/step - loss: 287.6855\n",
      "Epoch 9/10\n",
      "1/1 [==============================] - 0s 187ms/step - loss: 286.7701\n",
      "Epoch 10/10\n",
      "1/1 [==============================] - 0s 142ms/step - loss: 285.8458\n"
     ]
    },
    {
     "data": {
      "text/plain": [
       "<keras.callbacks.History at 0x7fedb41a5eb0>"
      ]
     },
     "execution_count": 82,
     "metadata": {},
     "output_type": "execute_result"
    }
   ],
   "source": [
    "model.fit(np.array([list(Z)]), np.array([y]), epochs=10)"
   ]
  },
  {
   "cell_type": "code",
   "execution_count": 94,
   "metadata": {},
   "outputs": [
    {
     "data": {
      "text/plain": [
       "(1, 20)"
      ]
     },
     "execution_count": 94,
     "metadata": {},
     "output_type": "execute_result"
    }
   ],
   "source": [
    "np.array(model.layers[0].get_weights()[0]).shape"
   ]
  }
 ],
 "metadata": {
  "kernelspec": {
   "display_name": "Python 3.9.13 ('base')",
   "language": "python",
   "name": "python3"
  },
  "language_info": {
   "codemirror_mode": {
    "name": "ipython",
    "version": 3
   },
   "file_extension": ".py",
   "mimetype": "text/x-python",
   "name": "python",
   "nbconvert_exporter": "python",
   "pygments_lexer": "ipython3",
   "version": "3.9.13"
  },
  "orig_nbformat": 4,
  "vscode": {
   "interpreter": {
    "hash": "eb836b274fbd3616a7be81c7cd3a384a8f1395414b5f60b2221d794310eaa1c9"
   }
  }
 },
 "nbformat": 4,
 "nbformat_minor": 2
}
