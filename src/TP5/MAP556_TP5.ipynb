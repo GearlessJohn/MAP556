{
 "cells": [
  {
   "cell_type": "markdown",
   "metadata": {},
   "source": [
    "### MAP556, Ecole Polytechnique, 2022-23"
   ]
  },
  {
   "cell_type": "markdown",
   "metadata": {},
   "source": [
    "# TP 5 - Régression empirique pour l'approximation d'espérance conditionnelle\n"
   ]
  },
  {
   "cell_type": "markdown",
   "metadata": {},
   "source": [
    "### Exercice 1.  Un exemple de programmation dynamique pour un problème d'arrêt optimal\n",
    "\n",
    "On considère le processus stochastique à deux pas \n",
    "\n",
    "$$X_i = x_0 \\ e^{-\\frac12 \\sigma^2 T_i \\ + \\ \\sigma \\, W_{i}}, \\quad\n",
    "\\qquad i=0,1,2,\n",
    "$$\n",
    "\n",
    "où $x_0$ et $\\sigma$ sont deux paramètres positifs, $T_i=i$, et $(W_i)_{0\\le i \\le 2}$ est un processus à temps discret définit comme suit: $W_0 = 0$, et \n",
    "\n",
    "- la v.a.  $W_{1}$ suit une loi Gaussienne $\\mathcal{N}(0,T_1)$,\n",
    "\n",
    "\n",
    "- $W_{2} = W_{1} + \\Delta W$, où $\\Delta W$ est une v.a. de loi $\\mathcal{N}(0,T_2 - T_1)$ indépendante de $W_{1}$.\n",
    "\n",
    "\n",
    "__Pour la terminologie__: \n",
    "\n",
    " - $(W_i)_{0\\le i \\le 2}$ est la version en temps discret de ce que l'on appelle un _mouvement Brownien_, un processus défini en temps continu.\n",
    " \n",
    "   En particulier, c'est une chaîne de Markov par rapport à sa filtration $(\\mathcal{F}_0, \\mathcal{F}_1, \\mathcal{F}_2)$, où $\\mathcal{F}_i = \\sigma(W_0, \\dots, W_i)$.\n",
    "\n",
    "\n",
    " - Le processus $(X_i)_{0\\le i \\le 2}$ est appelé _mouvement Brownien géometrique_.\n"
   ]
  },
  {
   "cell_type": "markdown",
   "metadata": {},
   "source": [
    "__Le problème d'arrêt optimal__\n",
    "\n",
    "Dans la suite, on voit le processus $X$ comme modèle aléatoire pour la valeur d'un actif sur un marché (par exemple, une action).\n",
    "\n",
    "C'est un modèle à temps discret sur deux périodes ($[T_0, T_1]$ et $[T_1, T_2]$), très simplifié donc, mais la nature du problème et la méthode de calcul présentée ci-dessous restent les mêmes si on passe à un système à $n$ dates $T_1,\\dots, T_n$.\n",
    "\n",
    "$\\blacktriangleright$ Le contrat financier _option Put Bermuda_ est un exemple de jeu à arrêt optimal entre deux parties (l'acheteur et le vendeur du contrat): l'acheteur du Put Bermuda paye au vendeur un prix $u_0$ à l'instant $T_0$, et gagne en échange le droit de recevoir le montant $(K-X_t)^+ = \\max(K-X_t, 0)$ à une date $t\\in\\{0,1,2 \\}$ de son choix.\n",
    "\n",
    "La constante $K > 0$ est fixée dès le départ (alors que la date d'exercice $t$ du contrat ne l'est pas: elle est arrêtée par l'acheteur pendant la vie du produit).\n",
    "\n",
    "$\\blacktriangleright$ On peut justifier que le juste prix à attribuer à ce produit financier à la date $T_0$ est donné par\n",
    "\n",
    "$$\n",
    "u_0 = \\sup_{\\tau \\, \\in \\, \\mathcal{T}_2 } {\\mathbb E} \\left[ (K - X_\\tau)^+ \\right],\n",
    "$$\n",
    "\n",
    "où $\\mathcal{T}_2$ est l'ensemble de temps d'arrêt à valeurs dans $\\{0,T_1,T_2\\}$ par rapport à la filtration $(\\mathcal{F}_i)_{0\\le i \\le 2}$. "
   ]
  },
  {
   "cell_type": "markdown",
   "metadata": {},
   "source": [
    "__La transformation en équation dynamique rétrograde__\n",
    "\n",
    "On souhaite évaluer $u_0$ par une méthode Monte-Carlo. \n",
    "\n",
    "On remarquera que la définition de $u_0$ contient un $\\sup$ sur un ensemble infini de fonctions (l'ensemble $\\mathcal{T}_2$ de temps d'arrêt).\n",
    "\n",
    "Une manière de simplifier le calcul est de faire appel à la formulation dynamique du problème: en posant \n",
    "\n",
    "$$\n",
    "Y_i = \\mbox{ess}\\sup_{\\tau \\,  \\in \\,  \\mathcal{T}_2: \\, \\tau \\, \\ge \\, i}\n",
    "{\\mathbb E} \\left[ (K - X_\\tau)^+|\\mathcal F_{i} \\right],\n",
    "$$\n",
    "\n",
    "de telle manière que\n",
    "$$\n",
    "Y_0 = u_0,\n",
    "$$\n",
    "\n",
    "on peut montrer que le processus $(Y_i)_{0 \\le i \\le 2}$ obéit à l'équation rétrograde\n",
    "\n",
    "$$\n",
    "\\left \\{\n",
    "\\begin{aligned}\n",
    "&Y_2 = (K-X_2)^+\n",
    "\\\\\n",
    "&Y_i = \\max \\left( (K-X_i)^+, \\, {\\mathbb E} \\left[Y_{i+1}|\\mathcal{F}_i\\right] \\right)\n",
    "\\qquad i = 0, 1.\n",
    "\\end{aligned}\n",
    "\\right.\n",
    "$$\n",
    "\n",
    "qui est l'_équation de programmation dynamique_ pour le problème d'arrêt optimal $u_0$. C'est cette équation que nous allons approcher."
   ]
  },
  {
   "cell_type": "markdown",
   "metadata": {},
   "source": [
    "#####  Question préliminaire: \n",
    "Montrer que $Y_i$ est de la forme $Y_i= u_i (W_i)$ pour une fonction mesurable $u_i: \\mathbb{R} \\to \\mathbb{R}$.\n",
    "Remarquer que le prix de l'option Bermuda en $t=0$ s'écrit comme l'espérance emboitée suivante\n",
    "\n",
    "$$\n",
    "u_0 = Y_0\n",
    "= \\max \\left\\{ (K-x_0)^+, {\\mathbb E} \\left[ \\max\\left( (K - X_1)^+, v_1(W_1) \\right) \\right] \\right\\},\n",
    "$$\n",
    "\n",
    "où $v_1(W_1) = {\\mathbb E}\\left[(K-X_2)^+|W_1 \\right]$."
   ]
  },
  {
   "cell_type": "markdown",
   "metadata": {},
   "source": [
    "$\\blacktriangleright$ On note $(W_1^m,W_2^m)_{1 \\le m \\le M}$ un échantillon de tirages i.i.d. du couple $(W_1,W_2)$, et on pose $X_i^m = x_0 \\, e^{-\\frac12 \\sigma^2 T_i \\, + \\, \\sigma \\, W_i^m}$ pour tout $m$.\n",
    "\n",
    "\n",
    "1. __Valeur de référence (_benchmark_) du prix: on utilise l'expression explicite de la fonction $v_1$.__ Dans cette question, on utilisera la formule\n",
    "\t\n",
    "    $$\n",
    "  v_1(w) = {\\mathbb E}\\left[(K-X_2)^+|W_1 = w \\right] = \n",
    "  K \\, N(-d_2) - x \\, N(-d_1)\n",
    "\t$$\n",
    "    où\n",
    "\t$$\n",
    "\tx = x_0  \\, e^{-\\frac12 \\sigma^2 T_1 + \\sigma \\, w},\n",
    "\t\\qquad d_2 = \\frac{\\log(x/K)}{\\sigma \\sqrt{T_2-T_1}} - \\frac12 \\sigma \\sqrt{T_2-T_1},\n",
    "\t\\qquad d_1 = d_2 + \\sigma \\sqrt{T_2-T_1},\n",
    "\t$$\n",
    "    \n",
    "\toù $N(z) = \\int_{-\\infty}^z e^{-y^2/2} \\frac{dy}{\\sqrt{2 \\pi}}$ est la fonction de répartition gaussienne, accessible en Python via la fonction `scipy.stats.norm.cdf`.\n",
    "    \n",
    "    (Remarque: Dans la terminologie financière, la fonction $\\mathrm{v_1}$ est le prix d'une option Put (non Bermuda, mais *Européenne*) dans le modèle de Black-Scholes.)\n",
    "    \n",
    "    __1 (a)__. Coder la formule ci-dessus pour la fonction $v_1$. Vérifier que pour les paramètres $x_0=1$, $T_1=1$, $T_2=2 $, $K=1.2$, $\\sigma=0.2$, on obtient bien $v_1(0) \\approx 0.2374$.\n"
   ]
  },
  {
   "cell_type": "code",
   "execution_count": 1,
   "metadata": {},
   "outputs": [],
   "source": [
    "import numpy as np\n",
    "import matplotlib.pyplot as plt\n",
    "from scipy.stats import norm\n",
    "from time import time "
   ]
  },
  {
   "cell_type": "code",
   "execution_count": 2,
   "metadata": {},
   "outputs": [],
   "source": [
    "## Parametres\n",
    "K = 1.2\n",
    "x0 = 1.\n",
    "sigma = 0.2\n",
    " \n",
    "T2 = 2.\n",
    "T1 = T2 / 2.\n",
    " \n",
    "M = int(5e3)"
   ]
  },
  {
   "cell_type": "code",
   "execution_count": 4,
   "metadata": {},
   "outputs": [
    {
     "name": "stdout",
     "output_type": "stream",
     "text": [
      "0.23742104895721428\n"
     ]
    }
   ],
   "source": [
    "###################################################\n",
    "## Q1 (a): formule explicite\n",
    "##         pour l'esperance conditionnelle \n",
    "###################################################\n",
    " \n",
    "def fonction_v_1(x0, T1, T2, K, W1, sigma):\n",
    "    \"\"\"\n",
    "    La fonction v_1(W1) de la question 1.(a)\n",
    "    \n",
    "    Autrement dit: le prix en T1 du Put Black-Scholes de maturite T2\n",
    "    en fonction de la valeur courante du mouv Brownien en T1.\n",
    "    \n",
    "    Paramètres:\n",
    "    W1: un array numpy\n",
    "    \"\"\"\n",
    "    sigmaSqrtDeltaT = sigma * np.sqrt(T2 - T1)\n",
    "    x = x0*np.exp(-0.5*sigma**2*T1 + sigma*W1)\n",
    "    d2 = np.log(x/K)/sigmaSqrtDeltaT - 0.5*sigmaSqrtDeltaT\n",
    "     \n",
    "    ######################################\n",
    "    # TO DO: coder la formule explicite\n",
    "    # pour la fonction v_1\n",
    "    ######################################\n",
    "     \n",
    "    ## Output: un array de la meme taille que W\n",
    "    return K*norm.cdf(-d2)-x*norm.cdf(-(d2+sigmaSqrtDeltaT))\n",
    "\n",
    "print(fonction_v_1(x0, 1, 2, 1.2, 0, 0.2))"
   ]
  },
  {
   "cell_type": "markdown",
   "metadata": {},
   "source": [
    "La connaissance explicite de la fonction $v_1$ permet d'écrire l'estimateur\n",
    "$$\n",
    "u_0^{M} =\n",
    "\\max \\Bigl\\{ (K-x_0)^+, \\frac 1M \\sum_{m = 1}^M u_1(W_{1}^m)\\Bigr\\}\n",
    "$$\n",
    "\n",
    "où $u_1(W_{1}^m) = \\max\\left( (K - X_{1}^m)^+, v_1(W_{1}^m) \\right)$.\n",
    "\n",
    "\n",
    "__1 (c)__ Simuler cet estimateur dans la cellule suivante. Pour calculer le maximum $\\max(a,b)$ entre deux nombres, on pourra utiliser la fonction `numpy.maximum(a,b)`.\n",
    "\n",
    "$\\blacktriangleright$ __TCL pour $u_0^{M}$__. On rappelle que la méthode delta (ou méthode de substitution) affirme que si $\\overline Y_M$ est la moyenne empirique d'une suite $(Y_m)_{m \\ge 1}$ de v.a. i.i.d. de carré intégrable et $f$ une fonction dérivable au point $\\mathbb E[Y]$, l'estimateur $f(\\overline Y_M)$ de $f(\\mathbb E [Y])$ satisfait un TCL:\n",
    "\n",
    "$$ \n",
    "\\frac 1{\\sqrt{M}} \\left( f(\\overline Y_M) - f(\\mathbb E [Y]) \\right)\n",
    "\\to \n",
    "\\mathcal N \\left(0, f'(\\mathbb E [Y])^2 \\mathrm{Var}(Y) \\right).\n",
    "$$\n",
    "\n",
    "Pour les valeurs considérées des paramètres, on peut montrer que l'on a\n",
    "\n",
    "$$\n",
    "{\\mathbb E} \\left[ \\max\\left( (K - X_1)^+, v_1(W_1) \\right) \\right] > (K-x_0)^+.\n",
    "$$\n",
    "\n",
    "L'estimateur $u_0^{M}$ satisfait-il un TCL? Avec quelle variance limite?"
   ]
  },
  {
   "cell_type": "code",
   "execution_count": 18,
   "metadata": {},
   "outputs": [
    {
     "ename": "TypeError",
     "evalue": "only size-1 arrays can be converted to Python scalars",
     "output_type": "error",
     "traceback": [
      "\u001b[0;31m---------------------------------------------------------------------------\u001b[0m",
      "\u001b[0;31mTypeError\u001b[0m                                 Traceback (most recent call last)",
      "\u001b[1;32m/home/eloi_wang/MAP556/src/TP5/MAP556_TP5.ipynb Cell 12\u001b[0m in \u001b[0;36m<cell line: 49>\u001b[0;34m()\u001b[0m\n\u001b[1;32m     <a href='vscode-notebook-cell://wsl%2Bubuntu/home/eloi_wang/MAP556/src/TP5/MAP556_TP5.ipynb#X14sdnNjb2RlLXJlbW90ZQ%3D%3D?line=44'>45</a>\u001b[0m rayonIC \u001b[39m=\u001b[39m \u001b[39m1.96\u001b[39m \u001b[39m*\u001b[39m np\u001b[39m.\u001b[39msqrt(var_TCL\u001b[39m/\u001b[39mM)\n\u001b[1;32m     <a href='vscode-notebook-cell://wsl%2Bubuntu/home/eloi_wang/MAP556/src/TP5/MAP556_TP5.ipynb#X14sdnNjb2RlLXJlbW90ZQ%3D%3D?line=46'>47</a>\u001b[0m time2 \u001b[39m=\u001b[39m time()\n\u001b[0;32m---> <a href='vscode-notebook-cell://wsl%2Bubuntu/home/eloi_wang/MAP556/src/TP5/MAP556_TP5.ipynb#X14sdnNjb2RlLXJlbW90ZQ%3D%3D?line=48'>49</a>\u001b[0m \u001b[39mprint\u001b[39m(\u001b[39m\"\u001b[39;49m\u001b[39mPrix benchmark = \u001b[39;49m\u001b[39m%1.4f\u001b[39;49;00m\u001b[39m +/- \u001b[39;49m\u001b[39m%1.4f\u001b[39;49;00m\u001b[39m \u001b[39;49m\u001b[39m\\n\u001b[39;49;00m\u001b[39m\"\u001b[39;49m \u001b[39m%\u001b[39;49m(prix_benchmark, rayonIC) )\n\u001b[1;32m     <a href='vscode-notebook-cell://wsl%2Bubuntu/home/eloi_wang/MAP556/src/TP5/MAP556_TP5.ipynb#X14sdnNjb2RlLXJlbW90ZQ%3D%3D?line=49'>50</a>\u001b[0m \u001b[39mprint\u001b[39m(\u001b[39m\"\u001b[39m\u001b[39mErreur relative (TCL) = \u001b[39m\u001b[39m%1.3f\u001b[39;00m\u001b[39m \u001b[39m\u001b[39m\\n\u001b[39;00m\u001b[39m\"\u001b[39m \u001b[39m%\u001b[39m(rayonIC \u001b[39m/\u001b[39m prix_benchmark) )\n\u001b[1;32m     <a href='vscode-notebook-cell://wsl%2Bubuntu/home/eloi_wang/MAP556/src/TP5/MAP556_TP5.ipynb#X14sdnNjb2RlLXJlbW90ZQ%3D%3D?line=50'>51</a>\u001b[0m \u001b[39mprint\u001b[39m(\u001b[39m\"\u001b[39m\u001b[39mTime: \u001b[39m\u001b[39m%1.4f\u001b[39;00m\u001b[39m \u001b[39m\u001b[39m\\n\u001b[39;00m\u001b[39m\"\u001b[39m \u001b[39m%\u001b[39m(time2 \u001b[39m-\u001b[39m time1 \u001b[39m+\u001b[39m timeSimulations) )\n",
      "\u001b[0;31mTypeError\u001b[0m: only size-1 arrays can be converted to Python scalars"
     ]
    }
   ],
   "source": [
    "###################################################\n",
    "## On genere les tirages gaussiens et on construit\n",
    "## le mouv Brownien W et le mouv Brownien géometrique\n",
    "## aux instants T1 et T2\n",
    "###################################################\n",
    "def MBG(x0, T, sigma, W):\n",
    "    \"\"\"\n",
    "    Processus X: mouvement Brownien géometrique à\n",
    "    l'instant T, de parametre de volatilite sigma,\n",
    "    a partir de la valeur du mouvement Brownien W\n",
    "    \"\"\"\n",
    "    return x0 * np.exp(-0.5*sigma*sigma*T + sigma * W)\n",
    " \n",
    "time0 = time()\n",
    " \n",
    "#################################################\n",
    "## TO DO: Remplacer W1, W2 avec un echantillon de\n",
    "## tirages du mouvement Brownien aux dates T1 et T2\n",
    "## et X1, X2 avec le MBG correspondant\n",
    "W1 = np.sqrt(T1)*np.random.randn(M); W2 = W1 + np.sqrt(T2-T1)*np.random.randn(M)\n",
    "X1 = MBG(x0,T1,sigma,W1); X2 = MBG(x0,T2,sigma,W2)\n",
    "################################################\n",
    " \n",
    "time0_1 = time()\n",
    " \n",
    "timeSimulations = time0_1 - time0\n",
    " \n",
    "###################################################\n",
    "### 1. Prix Benchmark\n",
    "###################################################\n",
    " \n",
    "time1 = time()\n",
    " \n",
    "v_1 = fonction_v_1(x0, T1, T2, K, W1, sigma)\n",
    " \n",
    "################################################\n",
    "## TO DO: completer avec le calcul du prix\n",
    "## benchmark u_0^M et l'estimation de la variance\n",
    "## dans le TCL pour l'estimateur\n",
    "u_1 = np.maximum(np.maximum(K-X1,0), v_1)\n",
    "prix_benchmark = np.maximum(np.maximum(K-X1,0), np.mean(u_1))\n",
    "var_TCL = np.var(u_1)\n",
    "################################################\n",
    " \n",
    "rayonIC = 1.96 * np.sqrt(var_TCL/M)\n",
    " \n",
    "time2 = time()\n",
    " \n",
    "print(\"Prix benchmark = %1.4f +/- %1.4f \\n\" %(prix_benchmark, rayonIC) )\n",
    "print(\"Erreur relative (TCL) = %1.3f \\n\" %(rayonIC / prix_benchmark) )\n",
    "print(\"Time: %1.4f \\n\" %(time2 - time1 + timeSimulations) )"
   ]
  },
  {
   "cell_type": "markdown",
   "metadata": {},
   "source": [
    "2. __Prix par régression empirique:__ \n",
    "\n",
    "   En pratique (si le modèle est plus complexe qu'un mouvement Brownien géometrique, ou s'il y a plus que trois dates $T_0, \\dots, T_n$), la fonction à injecter dans l'estimateur Monte-Carlo (ici $v_1$) n'est pas connue explicitement.\n",
    "\n",
    "   Nous allons donc l'estimer, à partir des même tirages $(X_1^m, X_2^m)$, avec une méthode de régression sur un espace d'approximation."
   ]
  },
  {
   "cell_type": "markdown",
   "metadata": {},
   "source": [
    "- On choisit comme espace d'approximation pour la fonction $v_1$ l'espace engendré par les fonctions indicatrices de $n$ intervalles disjoints:\n",
    "$$\n",
    "\\phi_k = 1_{I_k},\n",
    "\\quad\n",
    "\\mbox{où }\n",
    "I_k = \\left[-a + (k-1) \\frac{2a}n, -a + k \\frac{2a}n \\right[;\n",
    "\\quad a > 0, \n",
    "\\quad k = 1, \\dots, n\n",
    "$$\n",
    "$$\n",
    "\\text{Vect}(\\phi_1,\\dots, \\phi_n)\n",
    "= \\left\\{\\sum_{k=1}^n \\alpha_k \\phi_k(\\cdot): \\alpha_1, \\dots, \\alpha_n \\in \\mathbb{R} \\right\\}.\n",
    "$$\n",
    "  On remarquera que $\\cup_k I_k = [-a, a[$: $a$ est donc un paramètre de troncature (toute fonction d'approximation obtenue sera nulle en dehors de cet intervalle).\n",
    "\n",
    "  On notera $\\alpha \\cdot \\phi(\\cdot) = \\sum_{k=1}^n \\alpha_k \\phi_k(\\cdot)$."
   ]
  },
  {
   "cell_type": "markdown",
   "metadata": {},
   "source": [
    " - L'approximation empirique de la fonction $v_1(\\cdot)$ est donnée par\n",
    "$$\n",
    "\\tilde v_1(\\cdot) = \\sum_{k=1}^{n} \\alpha_k^* \\ 1_{I_k}(\\cdot)\n",
    "$$\n",
    "où\n",
    "$$ \\label{e:regrEmp}\n",
    "\\begin{aligned}\n",
    "\\alpha^* \\in \\underset{\\alpha\\in \\mathbb{R}^n}{\\rm arg\\min}\n",
    "\\ \\sum_{m = 1}^M\n",
    "\\left((K-X_2^m)^+ - \\alpha \\cdot \\phi(W_1^m)\\right)^2.\n",
    "\\end{aligned}\n",
    "$$\n",
    "Si l'argmin n'est pas unique, on choisira le $\\alpha^*$ de norme minimale dans $\\mathbb{R}^n$.\n",
    "\n",
    "L'estimateur par régression empirique du prix du Put Bermuda est maintenant\n",
    "$$\n",
    "\\tilde{u}_0^{M} = \n",
    "\\max \\Bigl\\{\n",
    "(K - x_0)^+, \\frac 1M \\sum_{m=1}^M \\tilde u_1(W_1^m)\n",
    "\\Bigr\\}\n",
    "$$\n",
    "où $\\tilde u_1(W_1^m) =  \\max \\left( (K - X_{1}^m)^+, \\tilde{v}_1(W_1^m) \\right)$.\n",
    "\n",
    "__2 (a) Question théorique__: Donner l'expression des coefficients de régression $\\alpha^*_k$ qui sont solution du problème d'optimisation ci-dessus.\n",
    "\n",
    "__2 (b) suite__: Utiliser l'expression obtenue pour compléter la fonction coeffsRegressionEmpirique dans la cellule ci-dessous. Compléter le calcul de l'estimateur $\\tilde{u}_0^{M}$."
   ]
  },
  {
   "cell_type": "code",
   "execution_count": 14,
   "metadata": {},
   "outputs": [
    {
     "name": "stdout",
     "output_type": "stream",
     "text": [
      "Prix par regression empirique = 0.2469\n",
      "Time: 0.0177 \n",
      "\n"
     ]
    },
    {
     "data": {
      "text/plain": [
       "<matplotlib.legend.Legend at 0x7f5824c2b790>"
      ]
     },
     "execution_count": 14,
     "metadata": {},
     "output_type": "execute_result"
    },
    {
     "data": {
      "image/png": "[encoded data removed]",
      "text/plain": [
       "<Figure size 432x288 with 1 Axes>"
      ]
     },
     "metadata": {
      "needs_background": "light"
     },
     "output_type": "display_data"
    }
   ],
   "source": [
    "###################################################\n",
    "### 2. Prix par regression empirique\n",
    "###################################################\n",
    " \n",
    "##################################\n",
    "### On genere les cellules I_k\n",
    "##################################\n",
    "# Choix de la troncature\n",
    "a = 3.*np.sqrt(T1)\n",
    " \n",
    "## Dimension n  de l'espace d'approximation.\n",
    "## Une règle pratique : prendre n de l'ordre de M^{d / (d+2)}\n",
    "n = int(M**(1./3))\n",
    " \n",
    "intervals = np.linspace(-a, a, n+1)\n",
    " \n",
    "####################################################\n",
    "## TO DO: calculer\n",
    "## - Les coefficients de regression empirique alpha\n",
    "## - Le vecteur v_1_tilde(W1) de taille M\n",
    "##   dans l'array v_1_tilde\n",
    "####################################################\n",
    "def regressionEmpirique(W1, W2, intervals, T2, K, x0, sigma):\n",
    "    step = intervals[1] - intervals[0]\n",
    "    alpha = np.zeros(intervals.size - 1)\n",
    "    \n",
    "    v_1_tilde = np.zeros(M)\n",
    "     \n",
    "    for k in range(intervals.size - 1):\n",
    "        leftPoint = intervals[k]\n",
    "        \n",
    "        # Array de taille M de booléens True/False\n",
    "        insideCell = np.logical_and( leftPoint <= W1, W1 < leftPoint+step )         \n",
    "        \n",
    "        # W2[insideCell]: la valeur W_2[m] est conservée uniquement si insideCell[m] = True\n",
    "        X_T2 = MBG(x0, T2, sigma, W2[insideCell])\n",
    "        \n",
    "        #############################################\n",
    "        ## TO DO: Completer avec le calcul des\n",
    "        ## coefficients alpha[k]\n",
    "        #############################################\n",
    "        if(np.sum(insideCell)>0):\n",
    "            alpha[k]=np.mean(np.maximum(K-X_T2,0))\n",
    "        #############################################\n",
    "        ## TO DO: Completer avec le calcul de l'approximation\n",
    "        ## empirique v_1_tilde(W1) (array de taille M)\n",
    "        #############################################\n",
    "            v_1_tilde[insideCell]=np.maximum(np.maximum(K-X1[insideCell],0),alpha[k])\n",
    "    return alpha, v_1_tilde\n",
    " \n",
    "time3 = time()\n",
    " \n",
    "alpha, v_1_tilde = regressionEmpirique(W1, W2, intervals, T2, K, x0, sigma) \n",
    "\n",
    "################################################\n",
    "## TO DO: Completer avec le calcul du prix\n",
    "## par regression empirique u_tilde_0^M \n",
    "\n",
    "prix_RegrEmp = np.mean(np.maximum(np.maximum(K-X1,0), v_1_tilde))\n",
    "################################################\n",
    " \n",
    "time4 = time()\n",
    " \n",
    "print(\"Prix par regression empirique = %1.4f\" %prix_RegrEmp)\n",
    "print(\"Time: %1.4f \\n\" %(time4 - time3 + timeSimulations))\n",
    " \n",
    "######################################\n",
    "## On peut afficher la vraie fonction\n",
    "## v_1 et son approximation empirique\n",
    "## pour comparaison\n",
    "#####################################\n",
    "x = np.linspace(-a, a, 100)\n",
    " \n",
    "v_1_exact = fonction_v_1(x0, T1, T2, K, x, sigma)\n",
    " \n",
    "plt.plot(x, v_1_exact, color=\"b\", label=\"$v_1$\")\n",
    " \n",
    "plt.step(intervals, np.append(alpha, alpha[-1]), where=\"post\", color=\"r\", label=r\"$\\tilde{v}_1$\")\n",
    " \n",
    "plt.xlabel(\"valeurs de $W_1$\", fontsize=17)\n",
    "plt.legend(loc=\"best\", fontsize=20)\n"
   ]
  },
  {
   "cell_type": "markdown",
   "metadata": {},
   "source": [
    "3. __Prix par _Simulations dans les simulations_ (ou _Nested Monte-Carlo_)__. L'estimateur de $u_0^M$ est\n",
    "$$\n",
    "\\hat{u}_0^{M} = \\max \\Bigl\\{ (K-x_0)^+,\n",
    "\\frac 1M \\sum_{m = 1}^M \\max\\left( (K - X_{1}^m)^+, \\hat{v}_{1}^m \\right)\n",
    "\\Bigr\\}\n",
    "$$\n",
    "où pour tout $m$, $\\hat{v}_{1}^m$ est obtenue à partir d'un échantillon de $M$ simulations i.i.d.\n",
    "de la loi de $W_2$ conditionellement à $W_1 = x$ calculée en $x = W_1^m$, notées \n",
    "$(W_2^{m,m'})_{1 \\le m' \\le M}$:\n",
    "$$\n",
    "\\hat{v}_{1}^m = \\frac1{M} \\sum_{m' = 1}^M \\bigl(K - x_0 \\, e^{-\\frac12 \\sigma^2 T_2 + \\sigma \\, W_2^{m,m'}} \\bigr)^+.\n",
    "$$\n",
    "    (a) Quelle est la loi de $W_2$ conditionelle à $W_1 = x$? Pour chaque $m$, simuler les $M$ tirages $W_2^{m, m'}$ suivant cette loi conditionnelle en $x =W_1^m$.\n",
    "    \n",
    "    (b) Compléter le calcul de cet estimateur dans le code ci-dessous, et comparer avec les méthodes précédentes."
   ]
  },
  {
   "cell_type": "code",
   "execution_count": 17,
   "metadata": {},
   "outputs": [
    {
     "name": "stdout",
     "output_type": "stream",
     "text": [
      "Prix Sim dans sim = 0.2480\n",
      "Time: 2.8016 \n",
      "\n"
     ]
    }
   ],
   "source": [
    "###################################################\n",
    "#### 3. Prix \"simulations dans les simulations\"\n",
    "###################################################\n",
    " \n",
    "###################################################\n",
    "## On genere M tirages de X2 pour chaque valeur\n",
    "## dans l'echantillon X1.\n",
    "## Il faudra donc repeter les tirages de M gaussiennes iid \n",
    "## POUR CHAQUE valeur de X1.\n",
    "###################################################\n",
    "sum_u_1 = 0.\n",
    " \n",
    "time7 = time()\n",
    " \n",
    "for m, w1 in enumerate(W1):\n",
    "    G = np.random.randn(M)\n",
    "     \n",
    "    ###################################################\n",
    "    ## To Do: completer avec\n",
    "    ## - les tirages de W_2 conditionnellement a W1 = w1\n",
    "    ## - la mise a jour de la somme des contributions à\n",
    "    ##   la variable u_1\n",
    "    W2 = w1+np.sqrt(T2-T1)*G\n",
    "    sum_u_1 += np.maximum(np.maximum(K-X1[m],0), np.mean(np.maximum(K-MBG(x0,T2,sigma,W2),0)))\n",
    "    ###################################################\n",
    "\n",
    "u_0 = np.maximum( np.maximum(K-x0,0.), sum_u_1/M )\n",
    "    \n",
    "time8 = time()\n",
    " \n",
    "print(\"Prix Sim dans sim = %1.4f\" %u_0)\n",
    "print(\"Time: %1.4f\" %(time8 - time7), \"\\n\")"
   ]
  },
  {
   "cell_type": "markdown",
   "metadata": {},
   "source": [
    "4. __Prix Longstaff-Schwartz:__\n",
    "\n",
    "   Enfin, il est aussi possible d'approcher le temps d'arrêt $\\tau^*$ (qui, pour rappel, est une variable aléatoire) qui atteint l'optimum dans le problème originaire, c'est à dire $\\tau^*$ tel que\n",
    "$$\n",
    "{\\mathbb E} \\left[ (K - X_{\\tau^*})^+ \\right] =\n",
    "\\sup_{\\tau \\, \\in \\, \\mathcal{T}_2 } {\\mathbb E} \\left[ (K - X_\\tau)^+ \\right]\n",
    "$$\n",
    "   \n",
    "   Cette approche est appélée méthode de Longstaff-Schwartz en référence à l'article _[F. Longstaff, E. Schwartz, Valuing American Options by Simulation: A Simple Least-Squares Approach. The Review of Financial Studies, 2001]_.\n",
    "   \n",
    "   On peut montrer les propriétés suivantes (qui restent vraies pour le problème à $n$ dates):"
   ]
  },
  {
   "cell_type": "markdown",
   "metadata": {},
   "source": [
    "+ On pose $\\tau^\\star = \\min\\{i\\ge 0 : Y_i = (K - X_i)^+ \\}$ et on note $(Y^\\star_i)_{0\\le i \\le 2}$ le processus arrêté $Y^\\star_i = Y_{i \\wedge \\tau^\\star}$. Montrer que $\\tau^\\star \\in \\mathcal{T}_2$ et que\n",
    "$$\n",
    "Y^\\star_i = \\mathbb{E} \\left[Y^\\star_{i+1} \\big|\\mathcal{F}_i \\right].\n",
    "$$\n",
    "\n",
    "  (_Indication_: écrire $Y_{i \\wedge \\tau^\\star} = 1_{i < \\tau^\\star} Y_i \\, + \\, 1_{i \\ge \\tau^\\star} Y_{\\tau^\\star}$ et observer que sur l'événement $\\{i < \\tau^\\star\\}$, on a $Y_i = \\mathbb{E}[Y_{i+1}|\\mathcal{F}_i]$.)\n",
    "\n",
    "\n",
    "+ Utiliser le processus $(Y^\\star_i)_{0\\le i \\le 2}$ pour montrer que $\\tau^\\star$ est un temps d'arrêt optimal."
   ]
  },
  {
   "cell_type": "markdown",
   "metadata": {},
   "source": [
    "$\\blacktriangleright$ On remarquera que la construction de $\\tau^*$ ci-dessus nécessite de comparer la variable $(K - X_i)^+$ à la valeur courante de $Y_i = u_i(W_i)$.\n",
    "\n",
    "En remplaçant la vraie fonction $u_i$ par la fonction $\\tilde{u}_i$ estimée par régression empirique, on obtient l'estimateur\n",
    "\n",
    "$$\n",
    "\\check{u}_0^M = \\frac1{M} \\sum_{m = 1}^M (K - X^{m}_{\\tau_m})^+,\n",
    "\\qquad\n",
    "\\mbox{où }\n",
    "\\tau_m = \\left\\{\n",
    "\\begin{array}{ll}\n",
    "0 & \\mbox{si } (K-x_0)^+ \\ge \\tilde u_0^M\n",
    "\\\\\n",
    "1 & \\mbox{si } (K-x_0)^+ < \\tilde u_0^M \\mbox{ et } (K-X_1^m)^+ \\ge \\tilde{u}_1(W_1^m)\n",
    "\\\\\n",
    "2 & \\mbox{sinon}.\n",
    "\\end{array}\n",
    "\\right.\n",
    "$$\n",
    "\n",
    "Compléter le calcul de cet estimateur dans le code ci-dessous."
   ]
  },
  {
   "cell_type": "code",
   "execution_count": 19,
   "metadata": {},
   "outputs": [
    {
     "name": "stdout",
     "output_type": "stream",
     "text": [
      "Prix Longstaff-Schwartz = 0.2418\n",
      "Time: 0.0308 \n",
      "\n"
     ]
    }
   ],
   "source": [
    "#######################################\n",
    "### 4. Prix Longstaff-Schwartz\n",
    "#######################################\n",
    "time5 = time()\n",
    " \n",
    "def tempsArretOptimal(X1, approx_empirique_T1, K, x0, M):\n",
    "    ## On réutilise l'approximation empirique definie\n",
    "    ## plus haut, correspondant a v_1_tilde\n",
    "    gain_T1 = np.maximum(K - X1, 0.)\n",
    "    \n",
    "    u_1_tilde = np.maximum(gain_T1, approx_empirique_T1)\n",
    "     \n",
    "    mean_0 = np.mean(u_1_tilde)\n",
    "     \n",
    "    if np.maximum((K-x0), 0.) >= mean_0:\n",
    "        return np.zeros(M)\n",
    "    else:\n",
    "        tau = 1 * (u_1_tilde <= gain_T1) \\\n",
    "              + 2 * (u_1_tilde > gain_T1)\n",
    "     \n",
    "    return tau\n",
    " \n",
    "###################################################\n",
    "## To Do: completer avec le calcul\n",
    "## - du temps d'arret optimal tau (echantillon tau_m)\n",
    "## - de l'estimateur Longstaff-Schwartz du prix\n",
    "##\n",
    "tau = tempsArretOptimal(X1, v_1_tilde, K, x0, M)\n",
    "val = (tau==0)*np.maximum(K-x0,0)+(tau==1)*np.maximum(K-X1,0)+(tau==2)*np.maximum(K-X2,0)\n",
    "estimateur_LongSchwartz = np.mean(val)\n",
    "###################################################\n",
    " \n",
    "time6 = time()\n",
    " \n",
    "print(\"Prix Longstaff-Schwartz = %1.4f\" %estimateur_LongSchwartz)\n",
    "print(\"Time: %1.4f \\n\" %(time6 - time5 + time4 - time3 + timeSimulations))"
   ]
  }
 ],
 "metadata": {
  "kernelspec": {
   "display_name": "Python 3.9.12 ('base')",
   "language": "python",
   "name": "python3"
  },
  "language_info": {
   "codemirror_mode": {
    "name": "ipython",
    "version": 3
   },
   "file_extension": ".py",
   "mimetype": "text/x-python",
   "name": "python",
   "nbconvert_exporter": "python",
   "pygments_lexer": "ipython3",
   "version": "3.9.12"
  },
  "latex_envs": {
   "LaTeX_envs_menu_present": true,
   "autoclose": true,
   "autocomplete": true,
   "bibliofile": "biblio.bib",
   "cite_by": "apalike",
   "current_citInitial": 1,
   "eqLabelWithNumbers": true,
   "eqNumInitial": 1,
   "hotkeys": {
    "equation": "Ctrl-E",
    "itemize": "Ctrl-I"
   },
   "labels_anchors": false,
   "latex_user_defs": false,
   "report_style_numbering": false,
   "user_envs_cfg": false
  },
  "vscode": {
   "interpreter": {
    "hash": "eb836b274fbd3616a7be81c7cd3a384a8f1395414b5f60b2221d794310eaa1c9"
   }
  }
 },
 "nbformat": 4,
 "nbformat_minor": 2
}
